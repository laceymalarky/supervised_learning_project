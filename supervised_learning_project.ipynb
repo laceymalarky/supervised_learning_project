{
 "cells": [
  {
   "attachments": {},
   "cell_type": "markdown",
   "metadata": {},
   "source": [
    "# Supervised Learning Project - Bank Customer Exit Analysis"
   ]
  },
  {
   "cell_type": "markdown",
   "metadata": {},
   "source": [
    "## Initialization"
   ]
  },
  {
   "cell_type": "code",
   "execution_count": 1,
   "metadata": {},
   "outputs": [],
   "source": [
    "# Data processing\n",
    "import pandas as pd\n",
    "import numpy as np\n",
    "\n",
    "# Data visualization\n",
    "import matplotlib.pyplot as plt\n",
    "\n",
    "# Model and performance\n",
    "from sklearn.model_selection import train_test_split\n",
    "from sklearn.preprocessing import StandardScaler\n",
    "from sklearn.linear_model import LogisticRegression\n",
    "from sklearn.metrics import accuracy_score, confusion_matrix, recall_score, precision_score, \\\n",
    "                            precision_recall_curve, roc_curve, roc_auc_score, f1_score\n",
    "from sklearn.utils import shuffle\n",
    "from sklearn.tree import DecisionTreeClassifier\n",
    "from sklearn.ensemble import RandomForestClassifier"
   ]
  },
  {
   "cell_type": "markdown",
   "metadata": {},
   "source": [
    "## Load data"
   ]
  },
  {
   "cell_type": "code",
   "execution_count": 2,
   "metadata": {},
   "outputs": [],
   "source": [
    "df = pd.read_csv('/datasets/Churn.csv')"
   ]
  },
  {
   "cell_type": "code",
   "execution_count": 3,
   "metadata": {},
   "outputs": [
    {
     "data": {
      "text/html": [
       "<div>\n",
       "<style scoped>\n",
       "    .dataframe tbody tr th:only-of-type {\n",
       "        vertical-align: middle;\n",
       "    }\n",
       "\n",
       "    .dataframe tbody tr th {\n",
       "        vertical-align: top;\n",
       "    }\n",
       "\n",
       "    .dataframe thead th {\n",
       "        text-align: right;\n",
       "    }\n",
       "</style>\n",
       "<table border=\"1\" class=\"dataframe\">\n",
       "  <thead>\n",
       "    <tr style=\"text-align: right;\">\n",
       "      <th></th>\n",
       "      <th>RowNumber</th>\n",
       "      <th>CustomerId</th>\n",
       "      <th>Surname</th>\n",
       "      <th>CreditScore</th>\n",
       "      <th>Geography</th>\n",
       "      <th>Gender</th>\n",
       "      <th>Age</th>\n",
       "      <th>Tenure</th>\n",
       "      <th>Balance</th>\n",
       "      <th>NumOfProducts</th>\n",
       "      <th>HasCrCard</th>\n",
       "      <th>IsActiveMember</th>\n",
       "      <th>EstimatedSalary</th>\n",
       "      <th>Exited</th>\n",
       "    </tr>\n",
       "  </thead>\n",
       "  <tbody>\n",
       "    <tr>\n",
       "      <th>0</th>\n",
       "      <td>1</td>\n",
       "      <td>15634602</td>\n",
       "      <td>Hargrave</td>\n",
       "      <td>619</td>\n",
       "      <td>France</td>\n",
       "      <td>Female</td>\n",
       "      <td>42</td>\n",
       "      <td>2.0</td>\n",
       "      <td>0.00</td>\n",
       "      <td>1</td>\n",
       "      <td>1</td>\n",
       "      <td>1</td>\n",
       "      <td>101348.88</td>\n",
       "      <td>1</td>\n",
       "    </tr>\n",
       "    <tr>\n",
       "      <th>1</th>\n",
       "      <td>2</td>\n",
       "      <td>15647311</td>\n",
       "      <td>Hill</td>\n",
       "      <td>608</td>\n",
       "      <td>Spain</td>\n",
       "      <td>Female</td>\n",
       "      <td>41</td>\n",
       "      <td>1.0</td>\n",
       "      <td>83807.86</td>\n",
       "      <td>1</td>\n",
       "      <td>0</td>\n",
       "      <td>1</td>\n",
       "      <td>112542.58</td>\n",
       "      <td>0</td>\n",
       "    </tr>\n",
       "    <tr>\n",
       "      <th>2</th>\n",
       "      <td>3</td>\n",
       "      <td>15619304</td>\n",
       "      <td>Onio</td>\n",
       "      <td>502</td>\n",
       "      <td>France</td>\n",
       "      <td>Female</td>\n",
       "      <td>42</td>\n",
       "      <td>8.0</td>\n",
       "      <td>159660.80</td>\n",
       "      <td>3</td>\n",
       "      <td>1</td>\n",
       "      <td>0</td>\n",
       "      <td>113931.57</td>\n",
       "      <td>1</td>\n",
       "    </tr>\n",
       "    <tr>\n",
       "      <th>3</th>\n",
       "      <td>4</td>\n",
       "      <td>15701354</td>\n",
       "      <td>Boni</td>\n",
       "      <td>699</td>\n",
       "      <td>France</td>\n",
       "      <td>Female</td>\n",
       "      <td>39</td>\n",
       "      <td>1.0</td>\n",
       "      <td>0.00</td>\n",
       "      <td>2</td>\n",
       "      <td>0</td>\n",
       "      <td>0</td>\n",
       "      <td>93826.63</td>\n",
       "      <td>0</td>\n",
       "    </tr>\n",
       "    <tr>\n",
       "      <th>4</th>\n",
       "      <td>5</td>\n",
       "      <td>15737888</td>\n",
       "      <td>Mitchell</td>\n",
       "      <td>850</td>\n",
       "      <td>Spain</td>\n",
       "      <td>Female</td>\n",
       "      <td>43</td>\n",
       "      <td>2.0</td>\n",
       "      <td>125510.82</td>\n",
       "      <td>1</td>\n",
       "      <td>1</td>\n",
       "      <td>1</td>\n",
       "      <td>79084.10</td>\n",
       "      <td>0</td>\n",
       "    </tr>\n",
       "  </tbody>\n",
       "</table>\n",
       "</div>"
      ],
      "text/plain": [
       "   RowNumber  CustomerId   Surname  CreditScore Geography  Gender  Age  \\\n",
       "0          1    15634602  Hargrave          619    France  Female   42   \n",
       "1          2    15647311      Hill          608     Spain  Female   41   \n",
       "2          3    15619304      Onio          502    France  Female   42   \n",
       "3          4    15701354      Boni          699    France  Female   39   \n",
       "4          5    15737888  Mitchell          850     Spain  Female   43   \n",
       "\n",
       "   Tenure    Balance  NumOfProducts  HasCrCard  IsActiveMember  \\\n",
       "0     2.0       0.00              1          1               1   \n",
       "1     1.0   83807.86              1          0               1   \n",
       "2     8.0  159660.80              3          1               0   \n",
       "3     1.0       0.00              2          0               0   \n",
       "4     2.0  125510.82              1          1               1   \n",
       "\n",
       "   EstimatedSalary  Exited  \n",
       "0        101348.88       1  \n",
       "1        112542.58       0  \n",
       "2        113931.57       1  \n",
       "3         93826.63       0  \n",
       "4         79084.10       0  "
      ]
     },
     "execution_count": 3,
     "metadata": {},
     "output_type": "execute_result"
    }
   ],
   "source": [
    "df.head()"
   ]
  },
  {
   "cell_type": "code",
   "execution_count": 4,
   "metadata": {},
   "outputs": [
    {
     "name": "stdout",
     "output_type": "stream",
     "text": [
      "<class 'pandas.core.frame.DataFrame'>\n",
      "RangeIndex: 10000 entries, 0 to 9999\n",
      "Data columns (total 14 columns):\n",
      " #   Column           Non-Null Count  Dtype  \n",
      "---  ------           --------------  -----  \n",
      " 0   RowNumber        10000 non-null  int64  \n",
      " 1   CustomerId       10000 non-null  int64  \n",
      " 2   Surname          10000 non-null  object \n",
      " 3   CreditScore      10000 non-null  int64  \n",
      " 4   Geography        10000 non-null  object \n",
      " 5   Gender           10000 non-null  object \n",
      " 6   Age              10000 non-null  int64  \n",
      " 7   Tenure           9091 non-null   float64\n",
      " 8   Balance          10000 non-null  float64\n",
      " 9   NumOfProducts    10000 non-null  int64  \n",
      " 10  HasCrCard        10000 non-null  int64  \n",
      " 11  IsActiveMember   10000 non-null  int64  \n",
      " 12  EstimatedSalary  10000 non-null  float64\n",
      " 13  Exited           10000 non-null  int64  \n",
      "dtypes: float64(3), int64(8), object(3)\n",
      "memory usage: 1.1+ MB\n"
     ]
    }
   ],
   "source": [
    "df.info()"
   ]
  },
  {
   "cell_type": "markdown",
   "metadata": {},
   "source": [
    "## Pre-processing"
   ]
  },
  {
   "cell_type": "markdown",
   "metadata": {},
   "source": [
    "### Cleaning"
   ]
  },
  {
   "cell_type": "code",
   "execution_count": 5,
   "metadata": {},
   "outputs": [],
   "source": [
    "# Drop Unique Identifier Columns\n",
    "df = df.drop(['RowNumber', 'CustomerId', 'Surname'], axis=1)"
   ]
  },
  {
   "cell_type": "code",
   "execution_count": 6,
   "metadata": {},
   "outputs": [
    {
     "data": {
      "text/html": [
       "<div>\n",
       "<style scoped>\n",
       "    .dataframe tbody tr th:only-of-type {\n",
       "        vertical-align: middle;\n",
       "    }\n",
       "\n",
       "    .dataframe tbody tr th {\n",
       "        vertical-align: top;\n",
       "    }\n",
       "\n",
       "    .dataframe thead th {\n",
       "        text-align: right;\n",
       "    }\n",
       "</style>\n",
       "<table border=\"1\" class=\"dataframe\">\n",
       "  <thead>\n",
       "    <tr style=\"text-align: right;\">\n",
       "      <th></th>\n",
       "      <th>CreditScore</th>\n",
       "      <th>Geography</th>\n",
       "      <th>Gender</th>\n",
       "      <th>Age</th>\n",
       "      <th>Tenure</th>\n",
       "      <th>Balance</th>\n",
       "      <th>NumOfProducts</th>\n",
       "      <th>HasCrCard</th>\n",
       "      <th>IsActiveMember</th>\n",
       "      <th>EstimatedSalary</th>\n",
       "      <th>Exited</th>\n",
       "    </tr>\n",
       "  </thead>\n",
       "  <tbody>\n",
       "    <tr>\n",
       "      <th>30</th>\n",
       "      <td>591</td>\n",
       "      <td>Spain</td>\n",
       "      <td>Female</td>\n",
       "      <td>39</td>\n",
       "      <td>NaN</td>\n",
       "      <td>0.00</td>\n",
       "      <td>3</td>\n",
       "      <td>1</td>\n",
       "      <td>0</td>\n",
       "      <td>140469.38</td>\n",
       "      <td>1</td>\n",
       "    </tr>\n",
       "    <tr>\n",
       "      <th>48</th>\n",
       "      <td>550</td>\n",
       "      <td>Germany</td>\n",
       "      <td>Male</td>\n",
       "      <td>38</td>\n",
       "      <td>NaN</td>\n",
       "      <td>103391.38</td>\n",
       "      <td>1</td>\n",
       "      <td>0</td>\n",
       "      <td>1</td>\n",
       "      <td>90878.13</td>\n",
       "      <td>0</td>\n",
       "    </tr>\n",
       "    <tr>\n",
       "      <th>51</th>\n",
       "      <td>585</td>\n",
       "      <td>Germany</td>\n",
       "      <td>Male</td>\n",
       "      <td>36</td>\n",
       "      <td>NaN</td>\n",
       "      <td>146050.97</td>\n",
       "      <td>2</td>\n",
       "      <td>0</td>\n",
       "      <td>0</td>\n",
       "      <td>86424.57</td>\n",
       "      <td>0</td>\n",
       "    </tr>\n",
       "    <tr>\n",
       "      <th>53</th>\n",
       "      <td>655</td>\n",
       "      <td>Germany</td>\n",
       "      <td>Male</td>\n",
       "      <td>41</td>\n",
       "      <td>NaN</td>\n",
       "      <td>125561.97</td>\n",
       "      <td>1</td>\n",
       "      <td>0</td>\n",
       "      <td>0</td>\n",
       "      <td>164040.94</td>\n",
       "      <td>1</td>\n",
       "    </tr>\n",
       "    <tr>\n",
       "      <th>60</th>\n",
       "      <td>742</td>\n",
       "      <td>Germany</td>\n",
       "      <td>Male</td>\n",
       "      <td>35</td>\n",
       "      <td>NaN</td>\n",
       "      <td>136857.00</td>\n",
       "      <td>1</td>\n",
       "      <td>0</td>\n",
       "      <td>0</td>\n",
       "      <td>84509.57</td>\n",
       "      <td>0</td>\n",
       "    </tr>\n",
       "    <tr>\n",
       "      <th>...</th>\n",
       "      <td>...</td>\n",
       "      <td>...</td>\n",
       "      <td>...</td>\n",
       "      <td>...</td>\n",
       "      <td>...</td>\n",
       "      <td>...</td>\n",
       "      <td>...</td>\n",
       "      <td>...</td>\n",
       "      <td>...</td>\n",
       "      <td>...</td>\n",
       "      <td>...</td>\n",
       "    </tr>\n",
       "    <tr>\n",
       "      <th>9944</th>\n",
       "      <td>744</td>\n",
       "      <td>Germany</td>\n",
       "      <td>Male</td>\n",
       "      <td>41</td>\n",
       "      <td>NaN</td>\n",
       "      <td>190409.34</td>\n",
       "      <td>2</td>\n",
       "      <td>1</td>\n",
       "      <td>1</td>\n",
       "      <td>138361.48</td>\n",
       "      <td>0</td>\n",
       "    </tr>\n",
       "    <tr>\n",
       "      <th>9956</th>\n",
       "      <td>520</td>\n",
       "      <td>France</td>\n",
       "      <td>Female</td>\n",
       "      <td>46</td>\n",
       "      <td>NaN</td>\n",
       "      <td>85216.61</td>\n",
       "      <td>1</td>\n",
       "      <td>1</td>\n",
       "      <td>0</td>\n",
       "      <td>117369.52</td>\n",
       "      <td>1</td>\n",
       "    </tr>\n",
       "    <tr>\n",
       "      <th>9964</th>\n",
       "      <td>479</td>\n",
       "      <td>France</td>\n",
       "      <td>Male</td>\n",
       "      <td>34</td>\n",
       "      <td>NaN</td>\n",
       "      <td>117593.48</td>\n",
       "      <td>2</td>\n",
       "      <td>0</td>\n",
       "      <td>0</td>\n",
       "      <td>113308.29</td>\n",
       "      <td>0</td>\n",
       "    </tr>\n",
       "    <tr>\n",
       "      <th>9985</th>\n",
       "      <td>659</td>\n",
       "      <td>France</td>\n",
       "      <td>Male</td>\n",
       "      <td>36</td>\n",
       "      <td>NaN</td>\n",
       "      <td>123841.49</td>\n",
       "      <td>2</td>\n",
       "      <td>1</td>\n",
       "      <td>0</td>\n",
       "      <td>96833.00</td>\n",
       "      <td>0</td>\n",
       "    </tr>\n",
       "    <tr>\n",
       "      <th>9999</th>\n",
       "      <td>792</td>\n",
       "      <td>France</td>\n",
       "      <td>Female</td>\n",
       "      <td>28</td>\n",
       "      <td>NaN</td>\n",
       "      <td>130142.79</td>\n",
       "      <td>1</td>\n",
       "      <td>1</td>\n",
       "      <td>0</td>\n",
       "      <td>38190.78</td>\n",
       "      <td>0</td>\n",
       "    </tr>\n",
       "  </tbody>\n",
       "</table>\n",
       "<p>909 rows × 11 columns</p>\n",
       "</div>"
      ],
      "text/plain": [
       "      CreditScore Geography  Gender  Age  Tenure    Balance  NumOfProducts  \\\n",
       "30            591     Spain  Female   39     NaN       0.00              3   \n",
       "48            550   Germany    Male   38     NaN  103391.38              1   \n",
       "51            585   Germany    Male   36     NaN  146050.97              2   \n",
       "53            655   Germany    Male   41     NaN  125561.97              1   \n",
       "60            742   Germany    Male   35     NaN  136857.00              1   \n",
       "...           ...       ...     ...  ...     ...        ...            ...   \n",
       "9944          744   Germany    Male   41     NaN  190409.34              2   \n",
       "9956          520    France  Female   46     NaN   85216.61              1   \n",
       "9964          479    France    Male   34     NaN  117593.48              2   \n",
       "9985          659    France    Male   36     NaN  123841.49              2   \n",
       "9999          792    France  Female   28     NaN  130142.79              1   \n",
       "\n",
       "      HasCrCard  IsActiveMember  EstimatedSalary  Exited  \n",
       "30            1               0        140469.38       1  \n",
       "48            0               1         90878.13       0  \n",
       "51            0               0         86424.57       0  \n",
       "53            0               0        164040.94       1  \n",
       "60            0               0         84509.57       0  \n",
       "...         ...             ...              ...     ...  \n",
       "9944          1               1        138361.48       0  \n",
       "9956          1               0        117369.52       1  \n",
       "9964          0               0        113308.29       0  \n",
       "9985          1               0         96833.00       0  \n",
       "9999          1               0         38190.78       0  \n",
       "\n",
       "[909 rows x 11 columns]"
      ]
     },
     "execution_count": 6,
     "metadata": {},
     "output_type": "execute_result"
    }
   ],
   "source": [
    "# Examine Missing values\n",
    "df[df['Tenure'].isna()]"
   ]
  },
  {
   "cell_type": "code",
   "execution_count": 7,
   "metadata": {},
   "outputs": [
    {
     "data": {
      "text/html": [
       "<div>\n",
       "<style scoped>\n",
       "    .dataframe tbody tr th:only-of-type {\n",
       "        vertical-align: middle;\n",
       "    }\n",
       "\n",
       "    .dataframe tbody tr th {\n",
       "        vertical-align: top;\n",
       "    }\n",
       "\n",
       "    .dataframe thead th {\n",
       "        text-align: right;\n",
       "    }\n",
       "</style>\n",
       "<table border=\"1\" class=\"dataframe\">\n",
       "  <thead>\n",
       "    <tr style=\"text-align: right;\">\n",
       "      <th></th>\n",
       "      <th>CreditScore</th>\n",
       "      <th>Age</th>\n",
       "      <th>Tenure</th>\n",
       "      <th>Balance</th>\n",
       "      <th>NumOfProducts</th>\n",
       "      <th>HasCrCard</th>\n",
       "      <th>IsActiveMember</th>\n",
       "      <th>EstimatedSalary</th>\n",
       "      <th>Exited</th>\n",
       "    </tr>\n",
       "  </thead>\n",
       "  <tbody>\n",
       "    <tr>\n",
       "      <th>count</th>\n",
       "      <td>10000.000000</td>\n",
       "      <td>10000.000000</td>\n",
       "      <td>9091.000000</td>\n",
       "      <td>10000.000000</td>\n",
       "      <td>10000.000000</td>\n",
       "      <td>10000.00000</td>\n",
       "      <td>10000.000000</td>\n",
       "      <td>10000.000000</td>\n",
       "      <td>10000.000000</td>\n",
       "    </tr>\n",
       "    <tr>\n",
       "      <th>mean</th>\n",
       "      <td>650.528800</td>\n",
       "      <td>38.921800</td>\n",
       "      <td>4.997690</td>\n",
       "      <td>76485.889288</td>\n",
       "      <td>1.530200</td>\n",
       "      <td>0.70550</td>\n",
       "      <td>0.515100</td>\n",
       "      <td>100090.239881</td>\n",
       "      <td>0.203700</td>\n",
       "    </tr>\n",
       "    <tr>\n",
       "      <th>std</th>\n",
       "      <td>96.653299</td>\n",
       "      <td>10.487806</td>\n",
       "      <td>2.894723</td>\n",
       "      <td>62397.405202</td>\n",
       "      <td>0.581654</td>\n",
       "      <td>0.45584</td>\n",
       "      <td>0.499797</td>\n",
       "      <td>57510.492818</td>\n",
       "      <td>0.402769</td>\n",
       "    </tr>\n",
       "    <tr>\n",
       "      <th>min</th>\n",
       "      <td>350.000000</td>\n",
       "      <td>18.000000</td>\n",
       "      <td>0.000000</td>\n",
       "      <td>0.000000</td>\n",
       "      <td>1.000000</td>\n",
       "      <td>0.00000</td>\n",
       "      <td>0.000000</td>\n",
       "      <td>11.580000</td>\n",
       "      <td>0.000000</td>\n",
       "    </tr>\n",
       "    <tr>\n",
       "      <th>25%</th>\n",
       "      <td>584.000000</td>\n",
       "      <td>32.000000</td>\n",
       "      <td>2.000000</td>\n",
       "      <td>0.000000</td>\n",
       "      <td>1.000000</td>\n",
       "      <td>0.00000</td>\n",
       "      <td>0.000000</td>\n",
       "      <td>51002.110000</td>\n",
       "      <td>0.000000</td>\n",
       "    </tr>\n",
       "    <tr>\n",
       "      <th>50%</th>\n",
       "      <td>652.000000</td>\n",
       "      <td>37.000000</td>\n",
       "      <td>5.000000</td>\n",
       "      <td>97198.540000</td>\n",
       "      <td>1.000000</td>\n",
       "      <td>1.00000</td>\n",
       "      <td>1.000000</td>\n",
       "      <td>100193.915000</td>\n",
       "      <td>0.000000</td>\n",
       "    </tr>\n",
       "    <tr>\n",
       "      <th>75%</th>\n",
       "      <td>718.000000</td>\n",
       "      <td>44.000000</td>\n",
       "      <td>7.000000</td>\n",
       "      <td>127644.240000</td>\n",
       "      <td>2.000000</td>\n",
       "      <td>1.00000</td>\n",
       "      <td>1.000000</td>\n",
       "      <td>149388.247500</td>\n",
       "      <td>0.000000</td>\n",
       "    </tr>\n",
       "    <tr>\n",
       "      <th>max</th>\n",
       "      <td>850.000000</td>\n",
       "      <td>92.000000</td>\n",
       "      <td>10.000000</td>\n",
       "      <td>250898.090000</td>\n",
       "      <td>4.000000</td>\n",
       "      <td>1.00000</td>\n",
       "      <td>1.000000</td>\n",
       "      <td>199992.480000</td>\n",
       "      <td>1.000000</td>\n",
       "    </tr>\n",
       "  </tbody>\n",
       "</table>\n",
       "</div>"
      ],
      "text/plain": [
       "        CreditScore           Age       Tenure        Balance  NumOfProducts  \\\n",
       "count  10000.000000  10000.000000  9091.000000   10000.000000   10000.000000   \n",
       "mean     650.528800     38.921800     4.997690   76485.889288       1.530200   \n",
       "std       96.653299     10.487806     2.894723   62397.405202       0.581654   \n",
       "min      350.000000     18.000000     0.000000       0.000000       1.000000   \n",
       "25%      584.000000     32.000000     2.000000       0.000000       1.000000   \n",
       "50%      652.000000     37.000000     5.000000   97198.540000       1.000000   \n",
       "75%      718.000000     44.000000     7.000000  127644.240000       2.000000   \n",
       "max      850.000000     92.000000    10.000000  250898.090000       4.000000   \n",
       "\n",
       "         HasCrCard  IsActiveMember  EstimatedSalary        Exited  \n",
       "count  10000.00000    10000.000000     10000.000000  10000.000000  \n",
       "mean       0.70550        0.515100    100090.239881      0.203700  \n",
       "std        0.45584        0.499797     57510.492818      0.402769  \n",
       "min        0.00000        0.000000        11.580000      0.000000  \n",
       "25%        0.00000        0.000000     51002.110000      0.000000  \n",
       "50%        1.00000        1.000000    100193.915000      0.000000  \n",
       "75%        1.00000        1.000000    149388.247500      0.000000  \n",
       "max        1.00000        1.000000    199992.480000      1.000000  "
      ]
     },
     "execution_count": 7,
     "metadata": {},
     "output_type": "execute_result"
    }
   ],
   "source": [
    "# Check if Tenure has outliers - decide Ither to fill NaNs with mean or median value\n",
    "df.describe()"
   ]
  },
  {
   "cell_type": "code",
   "execution_count": 8,
   "metadata": {},
   "outputs": [],
   "source": [
    "# Fill missing Tenure values with mean value since there are no major outliers (mean almost equals median)\n",
    "df['Tenure'] = df['Tenure'].fillna(df['Tenure'].mean())"
   ]
  },
  {
   "cell_type": "markdown",
   "metadata": {},
   "source": [
    "### Feature preparation"
   ]
  },
  {
   "cell_type": "code",
   "execution_count": 9,
   "metadata": {},
   "outputs": [],
   "source": [
    "# OHE to transform categorical features\n",
    "df_ohe = pd.get_dummies(df, drop_first=True)"
   ]
  },
  {
   "cell_type": "markdown",
   "metadata": {},
   "source": [
    "### Extract & split training and validation sets"
   ]
  },
  {
   "cell_type": "code",
   "execution_count": 10,
   "metadata": {},
   "outputs": [],
   "source": [
    "features = df_ohe.drop(['Exited'], axis = 1)\n",
    "target = df_ohe['Exited']"
   ]
  },
  {
   "cell_type": "code",
   "execution_count": 11,
   "metadata": {},
   "outputs": [],
   "source": [
    "# Since the test set doesn't exist, first split into test (20%) & training (80%) sets\n",
    "features_train_valid, features_test, target_train_valid, target_test = train_test_split(\n",
    "    features, target, test_size=0.2, random_state=12345)"
   ]
  },
  {
   "cell_type": "code",
   "execution_count": 12,
   "metadata": {},
   "outputs": [],
   "source": [
    "# Then split the training into validation (20%) & training (60%) sets.\n",
    "# Use 25% for the validation size to make sure it equals the test size\n",
    "features_train, features_valid, target_train, target_valid = train_test_split(\n",
    "    features_train_valid, target_train_valid, test_size=0.25, random_state=0)"
   ]
  },
  {
   "cell_type": "code",
   "execution_count": 13,
   "metadata": {},
   "outputs": [
    {
     "name": "stdout",
     "output_type": "stream",
     "text": [
      "Training: (6000, 11) 0.6\n",
      "Validation: (2000, 11) 0.2\n",
      "Test: (2000, 11) 0.2\n",
      "df: (10000, 11)\n"
     ]
    }
   ],
   "source": [
    "# Check the size of the resulting features to make sure they follow the 3:1:1 rule\n",
    "print('Training:', features_train.shape, round(len(features_train)/len(df),2))\n",
    "print('Validation:', features_valid.shape, round(len(features_valid)/len(df),2))\n",
    "print('Test:', features_test.shape, round(len(features_test)/len(df),2))\n",
    "print('df:', df.shape)"
   ]
  },
  {
   "cell_type": "markdown",
   "metadata": {},
   "source": [
    "### Feature scaling"
   ]
  },
  {
   "cell_type": "code",
   "execution_count": 14,
   "metadata": {},
   "outputs": [
    {
     "data": {
      "text/html": [
       "<div>\n",
       "<style scoped>\n",
       "    .dataframe tbody tr th:only-of-type {\n",
       "        vertical-align: middle;\n",
       "    }\n",
       "\n",
       "    .dataframe tbody tr th {\n",
       "        vertical-align: top;\n",
       "    }\n",
       "\n",
       "    .dataframe thead th {\n",
       "        text-align: right;\n",
       "    }\n",
       "</style>\n",
       "<table border=\"1\" class=\"dataframe\">\n",
       "  <thead>\n",
       "    <tr style=\"text-align: right;\">\n",
       "      <th></th>\n",
       "      <th>CreditScore</th>\n",
       "      <th>Age</th>\n",
       "      <th>Tenure</th>\n",
       "      <th>Balance</th>\n",
       "      <th>NumOfProducts</th>\n",
       "      <th>HasCrCard</th>\n",
       "      <th>IsActiveMember</th>\n",
       "      <th>EstimatedSalary</th>\n",
       "      <th>Geography_Germany</th>\n",
       "      <th>Geography_Spain</th>\n",
       "      <th>Gender_Male</th>\n",
       "    </tr>\n",
       "  </thead>\n",
       "  <tbody>\n",
       "    <tr>\n",
       "      <th>5228</th>\n",
       "      <td>751</td>\n",
       "      <td>29</td>\n",
       "      <td>10.0</td>\n",
       "      <td>147737.63</td>\n",
       "      <td>1</td>\n",
       "      <td>0</td>\n",
       "      <td>1</td>\n",
       "      <td>94951.27</td>\n",
       "      <td>0</td>\n",
       "      <td>0</td>\n",
       "      <td>1</td>\n",
       "    </tr>\n",
       "    <tr>\n",
       "      <th>4144</th>\n",
       "      <td>655</td>\n",
       "      <td>44</td>\n",
       "      <td>8.0</td>\n",
       "      <td>87471.63</td>\n",
       "      <td>1</td>\n",
       "      <td>0</td>\n",
       "      <td>1</td>\n",
       "      <td>188593.98</td>\n",
       "      <td>0</td>\n",
       "      <td>0</td>\n",
       "      <td>1</td>\n",
       "    </tr>\n",
       "    <tr>\n",
       "      <th>1939</th>\n",
       "      <td>739</td>\n",
       "      <td>37</td>\n",
       "      <td>7.0</td>\n",
       "      <td>104960.46</td>\n",
       "      <td>1</td>\n",
       "      <td>0</td>\n",
       "      <td>1</td>\n",
       "      <td>80883.82</td>\n",
       "      <td>0</td>\n",
       "      <td>0</td>\n",
       "      <td>1</td>\n",
       "    </tr>\n",
       "    <tr>\n",
       "      <th>8994</th>\n",
       "      <td>612</td>\n",
       "      <td>43</td>\n",
       "      <td>4.0</td>\n",
       "      <td>139496.35</td>\n",
       "      <td>2</td>\n",
       "      <td>1</td>\n",
       "      <td>1</td>\n",
       "      <td>77128.23</td>\n",
       "      <td>0</td>\n",
       "      <td>0</td>\n",
       "      <td>0</td>\n",
       "    </tr>\n",
       "    <tr>\n",
       "      <th>4048</th>\n",
       "      <td>602</td>\n",
       "      <td>63</td>\n",
       "      <td>7.0</td>\n",
       "      <td>0.00</td>\n",
       "      <td>2</td>\n",
       "      <td>1</td>\n",
       "      <td>1</td>\n",
       "      <td>56323.21</td>\n",
       "      <td>0</td>\n",
       "      <td>0</td>\n",
       "      <td>0</td>\n",
       "    </tr>\n",
       "  </tbody>\n",
       "</table>\n",
       "</div>"
      ],
      "text/plain": [
       "      CreditScore  Age  Tenure    Balance  NumOfProducts  HasCrCard  \\\n",
       "5228          751   29    10.0  147737.63              1          0   \n",
       "4144          655   44     8.0   87471.63              1          0   \n",
       "1939          739   37     7.0  104960.46              1          0   \n",
       "8994          612   43     4.0  139496.35              2          1   \n",
       "4048          602   63     7.0       0.00              2          1   \n",
       "\n",
       "      IsActiveMember  EstimatedSalary  Geography_Germany  Geography_Spain  \\\n",
       "5228               1         94951.27                  0                0   \n",
       "4144               1        188593.98                  0                0   \n",
       "1939               1         80883.82                  0                0   \n",
       "8994               1         77128.23                  0                0   \n",
       "4048               1         56323.21                  0                0   \n",
       "\n",
       "      Gender_Male  \n",
       "5228            1  \n",
       "4144            1  \n",
       "1939            1  \n",
       "8994            0  \n",
       "4048            0  "
      ]
     },
     "execution_count": 14,
     "metadata": {},
     "output_type": "execute_result"
    }
   ],
   "source": [
    "features_train.head()"
   ]
  },
  {
   "cell_type": "code",
   "execution_count": 15,
   "metadata": {},
   "outputs": [],
   "source": [
    "pd.options.mode.chained_assignment = None #silence errors\n",
    "\n",
    "#select numeric columns to standardize\n",
    "numeric = ['CreditScore', 'Age', 'Tenure', 'Balance', 'NumOfProducts', 'EstimatedSalary']\n",
    "scaler = StandardScaler()\n",
    "scaler.fit(features_train[numeric])\n",
    "features_train[numeric] = scaler.transform(features_train[numeric])\n",
    "features_valid[numeric] = scaler.transform(features_valid[numeric])\n"
   ]
  },
  {
   "cell_type": "code",
   "execution_count": 16,
   "metadata": {},
   "outputs": [
    {
     "data": {
      "text/html": [
       "<div>\n",
       "<style scoped>\n",
       "    .dataframe tbody tr th:only-of-type {\n",
       "        vertical-align: middle;\n",
       "    }\n",
       "\n",
       "    .dataframe tbody tr th {\n",
       "        vertical-align: top;\n",
       "    }\n",
       "\n",
       "    .dataframe thead th {\n",
       "        text-align: right;\n",
       "    }\n",
       "</style>\n",
       "<table border=\"1\" class=\"dataframe\">\n",
       "  <thead>\n",
       "    <tr style=\"text-align: right;\">\n",
       "      <th></th>\n",
       "      <th>CreditScore</th>\n",
       "      <th>Age</th>\n",
       "      <th>Tenure</th>\n",
       "      <th>Balance</th>\n",
       "      <th>NumOfProducts</th>\n",
       "      <th>HasCrCard</th>\n",
       "      <th>IsActiveMember</th>\n",
       "      <th>EstimatedSalary</th>\n",
       "      <th>Geography_Germany</th>\n",
       "      <th>Geography_Spain</th>\n",
       "      <th>Gender_Male</th>\n",
       "    </tr>\n",
       "  </thead>\n",
       "  <tbody>\n",
       "    <tr>\n",
       "      <th>5228</th>\n",
       "      <td>1.037413</td>\n",
       "      <td>-0.932794</td>\n",
       "      <td>1.825380</td>\n",
       "      <td>1.148175</td>\n",
       "      <td>-0.893918</td>\n",
       "      <td>0</td>\n",
       "      <td>1</td>\n",
       "      <td>-0.094434</td>\n",
       "      <td>0</td>\n",
       "      <td>0</td>\n",
       "      <td>1</td>\n",
       "    </tr>\n",
       "    <tr>\n",
       "      <th>4144</th>\n",
       "      <td>0.046343</td>\n",
       "      <td>0.484084</td>\n",
       "      <td>1.094505</td>\n",
       "      <td>0.184194</td>\n",
       "      <td>-0.893918</td>\n",
       "      <td>0</td>\n",
       "      <td>1</td>\n",
       "      <td>1.527070</td>\n",
       "      <td>0</td>\n",
       "      <td>0</td>\n",
       "      <td>1</td>\n",
       "    </tr>\n",
       "    <tr>\n",
       "      <th>1939</th>\n",
       "      <td>0.913530</td>\n",
       "      <td>-0.177126</td>\n",
       "      <td>0.729068</td>\n",
       "      <td>0.463935</td>\n",
       "      <td>-0.893918</td>\n",
       "      <td>0</td>\n",
       "      <td>1</td>\n",
       "      <td>-0.338024</td>\n",
       "      <td>0</td>\n",
       "      <td>0</td>\n",
       "      <td>1</td>\n",
       "    </tr>\n",
       "    <tr>\n",
       "      <th>8994</th>\n",
       "      <td>-0.397574</td>\n",
       "      <td>0.389626</td>\n",
       "      <td>-0.367244</td>\n",
       "      <td>1.016352</td>\n",
       "      <td>0.831237</td>\n",
       "      <td>1</td>\n",
       "      <td>1</td>\n",
       "      <td>-0.403055</td>\n",
       "      <td>0</td>\n",
       "      <td>0</td>\n",
       "      <td>0</td>\n",
       "    </tr>\n",
       "    <tr>\n",
       "      <th>4048</th>\n",
       "      <td>-0.500811</td>\n",
       "      <td>2.278797</td>\n",
       "      <td>0.729068</td>\n",
       "      <td>-1.214954</td>\n",
       "      <td>0.831237</td>\n",
       "      <td>1</td>\n",
       "      <td>1</td>\n",
       "      <td>-0.763311</td>\n",
       "      <td>0</td>\n",
       "      <td>0</td>\n",
       "      <td>0</td>\n",
       "    </tr>\n",
       "  </tbody>\n",
       "</table>\n",
       "</div>"
      ],
      "text/plain": [
       "      CreditScore       Age    Tenure   Balance  NumOfProducts  HasCrCard  \\\n",
       "5228     1.037413 -0.932794  1.825380  1.148175      -0.893918          0   \n",
       "4144     0.046343  0.484084  1.094505  0.184194      -0.893918          0   \n",
       "1939     0.913530 -0.177126  0.729068  0.463935      -0.893918          0   \n",
       "8994    -0.397574  0.389626 -0.367244  1.016352       0.831237          1   \n",
       "4048    -0.500811  2.278797  0.729068 -1.214954       0.831237          1   \n",
       "\n",
       "      IsActiveMember  EstimatedSalary  Geography_Germany  Geography_Spain  \\\n",
       "5228               1        -0.094434                  0                0   \n",
       "4144               1         1.527070                  0                0   \n",
       "1939               1        -0.338024                  0                0   \n",
       "8994               1        -0.403055                  0                0   \n",
       "4048               1        -0.763311                  0                0   \n",
       "\n",
       "      Gender_Male  \n",
       "5228            1  \n",
       "4144            1  \n",
       "1939            1  \n",
       "8994            0  \n",
       "4048            0  "
      ]
     },
     "execution_count": 16,
     "metadata": {},
     "output_type": "execute_result"
    }
   ],
   "source": [
    "# Check that the numeric columns Ire standardized\n",
    "features_train.head()"
   ]
  },
  {
   "cell_type": "markdown",
   "metadata": {},
   "source": [
    "### Class balance"
   ]
  },
  {
   "cell_type": "code",
   "execution_count": 17,
   "metadata": {},
   "outputs": [
    {
     "data": {
      "text/plain": [
       "0    0.7995\n",
       "1    0.2005\n",
       "Name: Exited, dtype: float64"
      ]
     },
     "execution_count": 17,
     "metadata": {},
     "output_type": "execute_result"
    }
   ],
   "source": [
    "target_train.value_counts(normalize=True)"
   ]
  },
  {
   "cell_type": "markdown",
   "metadata": {},
   "source": [
    "**Conclusions**\n",
    "\n",
    "- All categorical features were transformed using one-hot encoding.\n",
    "- Training, validation and test data were split 3:1:1.\n",
    "- All numeric columns were standardized to be on the same scale.\n",
    "- Investigate class balance\n",
    "    - The target training classes are far from a 1:1 ratio, so they are imbalanced. There are more negative than positive classes (about 4:1)."
   ]
  },
  {
   "cell_type": "markdown",
   "metadata": {},
   "source": [
    "## Initial ML Models (Imbalanced data)\n",
    "I will compare the performance metrics of 3 models using the imbalanced training data."
   ]
  },
  {
   "cell_type": "markdown",
   "metadata": {},
   "source": [
    "### Decision Tree Classification (Imbalanced)"
   ]
  },
  {
   "cell_type": "code",
   "execution_count": 18,
   "metadata": {},
   "outputs": [],
   "source": [
    "# Initialize and train model\n",
    "model = DecisionTreeClassifier(random_state=0)\n",
    "model.fit(features_train, target_train)\n",
    "\n",
    "# Get model predictions on validation set\n",
    "predicted_valid = model.predict(features_valid)\n",
    "\n",
    "# Get model probabilities\n",
    "probabilities_valid = model.predict_proba(features_valid)\n",
    "probabilities_one_valid = probabilities_valid[:,1]"
   ]
  },
  {
   "cell_type": "code",
   "execution_count": 19,
   "metadata": {},
   "outputs": [
    {
     "name": "stdout",
     "output_type": "stream",
     "text": [
      "F1 score: 0.50\n",
      "AUC-ROC score: 0.69\n",
      "\n",
      "[[1366  227]\n",
      " [ 195  212]]\n",
      "\n",
      "Recall: 0.52\n",
      "Precision: 0.48\n"
     ]
    }
   ],
   "source": [
    "# Classification metrics on validation set\n",
    "print(f'F1 score: {f1_score(target_valid, predicted_valid):.2f}')\n",
    "print(f'AUC-ROC score: {roc_auc_score(target_valid, probabilities_one_valid):.2f}')\n",
    "print()\n",
    "\n",
    "# Confusion Matrix\n",
    "print(confusion_matrix(target_valid, predicted_valid))\n",
    "print()\n",
    "\n",
    "# Precision & Recall\n",
    "print(f'Recall: {recall_score(target_valid, predicted_valid):.2f}')\n",
    "print(f'Precision: {precision_score(target_valid, predicted_valid):.2f}')"
   ]
  },
  {
   "cell_type": "markdown",
   "metadata": {},
   "source": [
    "**Decision Tree (Imbalanced Classification) Conclusions:**\n",
    "- F1 score on the validation set is 0.50.\n",
    "- AUC_ROC score is 0.69.\n",
    "- There are 195 false negative and 227 false positive predictions by the model.\n",
    "- Recall (0.52) is slightly higher than precision (0.48)."
   ]
  },
  {
   "cell_type": "markdown",
   "metadata": {},
   "source": [
    "### Random Forest Classification (Imbalanced)"
   ]
  },
  {
   "cell_type": "code",
   "execution_count": 20,
   "metadata": {},
   "outputs": [],
   "source": [
    "# Initialize and train model\n",
    "model = RandomForestClassifier(random_state=0)\n",
    "model.fit(features_train, target_train)\n",
    "\n",
    "# Get model predictions on validation set\n",
    "predicted_valid = model.predict(features_valid)\n",
    "\n",
    "# Get model probabilities\n",
    "probabilities_valid = model.predict_proba(features_valid)\n",
    "probabilities_one_valid = probabilities_valid[:,1]"
   ]
  },
  {
   "cell_type": "code",
   "execution_count": 21,
   "metadata": {},
   "outputs": [
    {
     "name": "stdout",
     "output_type": "stream",
     "text": [
      "F1 score: 0.60\n",
      "AUC-ROC score: 0.86\n",
      "\n",
      "[[1540   53]\n",
      " [ 211  196]]\n",
      "\n",
      "Recall: 0.48\n",
      "Precision: 0.79\n"
     ]
    }
   ],
   "source": [
    "# Classification metrics on validation set\n",
    "print(f'F1 score: {f1_score(target_valid, predicted_valid):.2f}')\n",
    "print(f'AUC-ROC score: {roc_auc_score(target_valid, probabilities_one_valid):.2f}')\n",
    "print()\n",
    "\n",
    "# Confusion Matrix\n",
    "print(confusion_matrix(target_valid, predicted_valid))\n",
    "print()\n",
    "\n",
    "# Precision & Recall\n",
    "print(f'Recall: {recall_score(target_valid, predicted_valid):.2f}')\n",
    "print(f'Precision: {precision_score(target_valid, predicted_valid):.2f}')"
   ]
  },
  {
   "cell_type": "markdown",
   "metadata": {},
   "source": [
    "**Random Forest (Imbalanced Classification) Conclusions:**\n",
    "- F1 score on the validation set is 0.60.\n",
    "- AUC_ROC score is 0.86.\n",
    "- There are 211 false negative and 53 false positive predictions by the model.\n",
    "- Precision (0.79) is higher than recall (0.48)."
   ]
  },
  {
   "cell_type": "markdown",
   "metadata": {},
   "source": [
    "### Logistic Regression (Imbalanced)"
   ]
  },
  {
   "cell_type": "code",
   "execution_count": 22,
   "metadata": {},
   "outputs": [],
   "source": [
    "# Initialize and train model\n",
    "model = LogisticRegression(random_state=0, solver='liblinear')\n",
    "model.fit(features_train, target_train)\n",
    "\n",
    "# Get model predictions on validation set\n",
    "predicted_valid = model.predict(features_valid)\n",
    "\n",
    "# Get model probabilities\n",
    "probabilities_valid = model.predict_proba(features_valid)\n",
    "probabilities_one_valid = probabilities_valid[:,1]"
   ]
  },
  {
   "cell_type": "code",
   "execution_count": 23,
   "metadata": {},
   "outputs": [
    {
     "name": "stdout",
     "output_type": "stream",
     "text": [
      "F1 score: 0.28\n",
      "AUC-ROC score: 0.78\n",
      "\n",
      "[[1544   49]\n",
      " [ 332   75]]\n",
      "\n",
      "Recall: 0.18\n",
      "Precision: 0.60\n"
     ]
    }
   ],
   "source": [
    "# Classification metrics on validation set\n",
    "print(f'F1 score: {f1_score(target_valid, predicted_valid):.2f}')\n",
    "print(f'AUC-ROC score: {roc_auc_score(target_valid, probabilities_one_valid):.2f}')\n",
    "print()\n",
    "\n",
    "# Confusion Matrix\n",
    "print(confusion_matrix(target_valid, predicted_valid))\n",
    "print()\n",
    "\n",
    "# Precision & Recall\n",
    "print(f'Recall: {recall_score(target_valid, predicted_valid):.2f}')\n",
    "print(f'Precision: {precision_score(target_valid, predicted_valid):.2f}')"
   ]
  },
  {
   "cell_type": "markdown",
   "metadata": {},
   "source": [
    "**Logistic Regression (Imbalanced Classification) Conclusions:**\n",
    "- F1 score on the validation set is low at 0.28.\n",
    "- AUC_ROC score is 0.78.\n",
    "- There are 332 false negative and 49 false positive predictions by the model.\n",
    "- Precision (0.60) is higher than recall (0.18) - the model is better at identifying negative answers."
   ]
  },
  {
   "cell_type": "markdown",
   "metadata": {},
   "source": [
    "**Overall Conclusions:**\n",
    "- Random Forest has the best F1 score at 0.60.\n",
    "- Random Forest has the best AUC_ROC score at 0.86.\n",
    "- Logistic Regression has the fewest false positive predictions (49).\n",
    "- Decision Tree has the fewest false negative predictions (195).\n",
    "- Decision Tree and Random Forest have the best recall (.52 and .48), respectively.\n",
    "- Random Forest has the best precision 0.79."
   ]
  },
  {
   "attachments": {},
   "cell_type": "markdown",
   "metadata": {},
   "source": [
    "## Upsampling\n",
    "Since I determined that the classes are imbalanced, I will perform upsampling to make positive observations less rare in the data"
   ]
  },
  {
   "cell_type": "code",
   "execution_count": 24,
   "metadata": {},
   "outputs": [],
   "source": [
    "# Create a function to use for upsampling\n",
    "def upsample(features, target, repeat):\n",
    "    #split data into negative and positive observations\n",
    "    features_zero = features[target == 0]\n",
    "    features_ones = features[target == 1]\n",
    "    target_zero = target[target == 0]\n",
    "    target_ones = target[target == 1]\n",
    "    \n",
    "    #duplicate positive observations and create new training samples\n",
    "    features_upsampled = pd.concat([features_zero] + [features_ones]*repeat)\n",
    "    target_upsampled = pd.concat([target_zero] + [target_ones]*repeat)\n",
    "    \n",
    "    #shuffle the data so identical questions don't follow eachother\n",
    "    features_upsampled, target_upsampled = shuffle(features_upsampled, target_upsampled, random_state=0)\n",
    "    \n",
    "    return features_upsampled, target_upsampled\n",
    "    "
   ]
  },
  {
   "cell_type": "code",
   "execution_count": 25,
   "metadata": {},
   "outputs": [],
   "source": [
    "features_upsampled, target_upsampled = upsample(features_train, target_train, 4)"
   ]
  },
  {
   "cell_type": "code",
   "execution_count": 26,
   "metadata": {},
   "outputs": [
    {
     "data": {
      "text/plain": [
       "1    0.500781\n",
       "0    0.499219\n",
       "Name: Exited, dtype: float64"
      ]
     },
     "execution_count": 26,
     "metadata": {},
     "output_type": "execute_result"
    }
   ],
   "source": [
    "# Check to see if classes are balanced now\n",
    "target_upsampled.value_counts(normalize=True)"
   ]
  },
  {
   "cell_type": "markdown",
   "metadata": {},
   "source": [
    "**Conclusion**\n",
    "\n",
    "- Classes are now balanced 1:1 in the training set."
   ]
  },
  {
   "cell_type": "markdown",
   "metadata": {},
   "source": [
    "## ML Model Comparisons"
   ]
  },
  {
   "cell_type": "markdown",
   "metadata": {},
   "source": [
    "### Decision Tree Classifier"
   ]
  },
  {
   "cell_type": "code",
   "execution_count": 27,
   "metadata": {},
   "outputs": [
    {
     "name": "stdout",
     "output_type": "stream",
     "text": [
      "F1 score of the best Decision Tree model using upsampling: 0.5724703737465816 max_depth= 10 min_samples_split= 10 min_samples_leaf= 10\n",
      "\n",
      "AUC-ROC Score: 0.80\n"
     ]
    }
   ],
   "source": [
    "# Use upsampled training set to adjust for class imbalance\n",
    "\n",
    "# Initialize and train the model using different hyperparameters: max_depth, min_samples_split, min_samples_leaf\n",
    "upsampled_best_score = 0\n",
    "\n",
    "for depth in range(1,11):\n",
    "    for samples in range(2,11):\n",
    "        for leaf in range(1,11):\n",
    "            model = DecisionTreeClassifier(criterion='gini', random_state = 0, max_depth = depth, \n",
    "                                           min_samples_split = samples, min_samples_leaf = leaf)\n",
    "            model.fit(features_upsampled, target_upsampled)\n",
    "            # Get model predictions on the validation set\n",
    "            predictions_valid = model.predict(features_valid)\n",
    "            # Get model probabilities\n",
    "            probabilities_valid = model.predict_proba(features_valid)\n",
    "            probabilities_one_valid = probabilities_valid[:,1]\n",
    "            # Calculate F1 score on the validation set\n",
    "            score = f1_score(target_valid, predictions_valid)\n",
    "            if score > upsampled_best_score:\n",
    "                upsampled_best_score = score\n",
    "            # Calculate auc-roc\n",
    "            auc_roc = roc_auc_score(target_valid, probabilities_one_valid)\n",
    "\n",
    "    \n",
    "print('F1 score of the best Decision Tree model using upsampling:', upsampled_best_score, 'max_depth=', depth, \n",
    "      'min_samples_split=', samples, 'min_samples_leaf=', leaf)\n",
    "print()\n",
    "print(f'AUC-ROC Score: {auc_roc:.2f}')"
   ]
  },
  {
   "cell_type": "code",
   "execution_count": 28,
   "metadata": {},
   "outputs": [
    {
     "name": "stdout",
     "output_type": "stream",
     "text": [
      "F1 score of the best Decision Tree model using class_weight: 0.5724703737465816 max_depth= 10 min_samples_split= 10 min_samples_leaf= 10\n",
      "\n",
      "AUC-ROC Score: 0.81\n"
     ]
    }
   ],
   "source": [
    "# Use class_weight = 'balanced' to adjust for class imbalance\n",
    "\n",
    "# Initialize and train the model using different hyperparameters: max_depth, min_samples_split, min_samples_leaf\n",
    "class_weight_best_score = 0\n",
    "\n",
    "for depth in range(1,11):\n",
    "    for samples in range(2,11):\n",
    "        for leaf in range(1,11):\n",
    "            model = DecisionTreeClassifier(criterion='gini', random_state = 0, max_depth = depth, \n",
    "                                           min_samples_split = samples, min_samples_leaf = leaf, \n",
    "                                           class_weight='balanced')\n",
    "            model.fit(features_train, target_train)\n",
    "            # Get model predictions on the validation set\n",
    "            predictions_valid = model.predict(features_valid)\n",
    "            # Get model probabilities\n",
    "            probabilities_valid = model.predict_proba(features_valid)\n",
    "            probabilities_one_valid = probabilities_valid[:,1]\n",
    "            # Calculate F1 score on the validation set\n",
    "            score = f1_score(target_valid, predictions_valid)\n",
    "            if score > class_weight_best_score:\n",
    "                class_weight_best_score = score\n",
    "            # Calculate auc-roc\n",
    "            auc_roc = roc_auc_score(target_valid, probabilities_one_valid)\n",
    "    \n",
    "print('F1 score of the best Decision Tree model using class_weight:', class_weight_best_score, 'max_depth=', depth, \n",
    "      'min_samples_split=', samples, 'min_samples_leaf=', leaf)\n",
    "print()\n",
    "print(f'AUC-ROC Score: {auc_roc:.2f}')"
   ]
  },
  {
   "cell_type": "code",
   "execution_count": 29,
   "metadata": {},
   "outputs": [
    {
     "name": "stdout",
     "output_type": "stream",
     "text": [
      "No change in F1 score using upsampling or class_weight methods\n"
     ]
    }
   ],
   "source": [
    "# Compare upsampled vs. class_weight = 'balanced' methods on F1 scores, print the higher one\n",
    "if upsampled_best_score == class_weight_best_score:\n",
    "    print('No change in F1 score using upsampling or class_weight methods')\n",
    "elif upsampled_best_score > class_weight_best_score:\n",
    "    print(f'Upsampled F1 score is higher: {upsampled_best_score:.4f}')\n",
    "else:\n",
    "    print(f'class_weight = \"balanced\" F1 score is higher: {class_weight_best_score:.4f}')"
   ]
  },
  {
   "cell_type": "markdown",
   "metadata": {},
   "source": [
    "### Random Forest Classifier"
   ]
  },
  {
   "cell_type": "code",
   "execution_count": 30,
   "metadata": {},
   "outputs": [
    {
     "name": "stdout",
     "output_type": "stream",
     "text": [
      "F1 score of the best Random Forest model: 0.6135371179039302 max_depth= 10 min_samples_split= 10\n",
      "\n",
      "AUC-ROC Score: 0.87\n"
     ]
    }
   ],
   "source": [
    "# Use upsampled training set to adjust for class imbalance\n",
    "\n",
    "# Initialize and train the model using different hyperparameters: min_samples_split, max_depth\n",
    "upsampled_best_score = 0\n",
    "\n",
    "for samples in range(2,11):\n",
    "    for depth in range(1,11):\n",
    "        model = RandomForestClassifier(random_state = 0, min_samples_split=samples, max_depth=depth)\n",
    "        model.fit(features_upsampled, target_upsampled)\n",
    "        # Get model predictions on the validation set\n",
    "        predictions_valid = model.predict(features_valid)\n",
    "        # Get model probabilities\n",
    "        probabilities_valid = model.predict_proba(features_valid)\n",
    "        probabilities_one_valid = probabilities_valid[:,1]\n",
    "        # Calculate F1 score on the validation set\n",
    "        score = f1_score(target_valid, predictions_valid)\n",
    "        if score > upsampled_best_score:\n",
    "            upsampled_best_score = score\n",
    "        # Calculate auc-roc\n",
    "        auc_roc = roc_auc_score(target_valid, probabilities_one_valid)\n",
    "    \n",
    "print('F1 score of the best Random Forest model:', upsampled_best_score, 'max_depth=', depth, \n",
    "      'min_samples_split=', samples)\n",
    "print()\n",
    "print(f'AUC-ROC Score: {auc_roc:.2f}')"
   ]
  },
  {
   "cell_type": "code",
   "execution_count": 31,
   "metadata": {},
   "outputs": [
    {
     "name": "stdout",
     "output_type": "stream",
     "text": [
      "F1 score of the best Random Forest model: 0.6289752650176678 max_depth= 10 min_samples_split= 10\n",
      "\n",
      "AUC-ROC Score: 0.87\n"
     ]
    }
   ],
   "source": [
    "# Use class_weight = 'balanced' to adjust for class imbalance\n",
    "\n",
    "# Initialize and train the model using different hyperparameters: min_samples_split, max_depth\n",
    "class_weight_best_score = 0\n",
    "\n",
    "for samples in range(2,11):\n",
    "    for depth in range(1,11):\n",
    "        model = RandomForestClassifier(random_state = 0, min_samples_split=samples, max_depth=depth, \n",
    "                                       class_weight='balanced')\n",
    "        model.fit(features_train, target_train)\n",
    "        # Get model predictions on the validation set\n",
    "        predictions_valid = model.predict(features_valid)\n",
    "        # Get model probabilities\n",
    "        probabilities_valid = model.predict_proba(features_valid)\n",
    "        probabilities_one_valid = probabilities_valid[:,1]\n",
    "        # Calculate F1 score on the validation set\n",
    "        score = f1_score(target_valid, predictions_valid)\n",
    "        if score > class_weight_best_score:\n",
    "            class_weight_best_score = score\n",
    "        # Calculate auc-roc\n",
    "        auc_roc = roc_auc_score(target_valid, probabilities_one_valid)\n",
    "    \n",
    "print('F1 score of the best Random Forest model:', class_weight_best_score, 'max_depth=', depth, \n",
    "      'min_samples_split=', samples)\n",
    "print()\n",
    "print(f'AUC-ROC Score: {auc_roc:.2f}')"
   ]
  },
  {
   "cell_type": "code",
   "execution_count": 32,
   "metadata": {},
   "outputs": [
    {
     "name": "stdout",
     "output_type": "stream",
     "text": [
      "class_weight = \"balanced\" F1 score is higher: 0.6290\n"
     ]
    }
   ],
   "source": [
    "# Compare upsampled vs. class_weight = 'balanced' methods on F1 scores, print the higher one\n",
    "if upsampled_best_score == class_weight_best_score:\n",
    "    print('No change in F1 score using upsampling or class_weight methods')\n",
    "elif upsampled_best_score > class_weight_best_score:\n",
    "    print(f'Upsampled F1 score is higher: {upsampled_best_score:.4f}')\n",
    "else:\n",
    "    print(f'class_weight = \"balanced\" F1 score is higher: {class_weight_best_score:.4f}')"
   ]
  },
  {
   "cell_type": "markdown",
   "metadata": {},
   "source": [
    "### Logistic Regression"
   ]
  },
  {
   "cell_type": "code",
   "execution_count": 33,
   "metadata": {},
   "outputs": [
    {
     "name": "stdout",
     "output_type": "stream",
     "text": [
      "F1 score of the Logistic Regression model using upsampling: 0.5008695652173913\n",
      "\n",
      "AUC-ROC Score: 0.78\n"
     ]
    }
   ],
   "source": [
    "# Use upsampled training set to adjust for class imbalance\n",
    "\n",
    "# Initialize and train the model \n",
    "model = LogisticRegression(random_state = 0, solver = 'liblinear')\n",
    "model.fit(features_upsampled, target_upsampled)\n",
    "\n",
    "# Get model predictions on the validation set\n",
    "predictions_valid = model.predict(features_valid)\n",
    "\n",
    "# Get model probabilities\n",
    "probabilities_valid = model.predict_proba(features_valid)\n",
    "probabilities_one_valid = probabilities_valid[:,1]\n",
    "\n",
    "# Calculate F1 score on the validation set\n",
    "upsampled_score = f1_score(target_valid, predictions_valid)\n",
    "\n",
    "# Calculate auc-roc\n",
    "auc_roc = roc_auc_score(target_valid, probabilities_one_valid)\n",
    "    \n",
    "print('F1 score of the Logistic Regression model using upsampling:', upsampled_score)\n",
    "print()\n",
    "print(f'AUC-ROC Score: {auc_roc:.2f}')"
   ]
  },
  {
   "cell_type": "code",
   "execution_count": 34,
   "metadata": {},
   "outputs": [
    {
     "name": "stdout",
     "output_type": "stream",
     "text": [
      "F1 score of the Logistic Regression model using class_weight: 0.5004359197907585\n",
      "\n",
      "AUC-ROC Score: 0.78\n"
     ]
    }
   ],
   "source": [
    "# Use class_weight = 'balanced' to adjust for class imbalance\n",
    "\n",
    "# Initialize and train the model \n",
    "model = LogisticRegression(random_state = 0, solver = 'liblinear', class_weight='balanced')\n",
    "model.fit(features_train, target_train)\n",
    "\n",
    "# Get model predictions on the validation set\n",
    "predictions_valid = model.predict(features_valid)\n",
    "\n",
    "# Get model probabilities\n",
    "probabilities_valid = model.predict_proba(features_valid)\n",
    "probabilities_one_valid = probabilities_valid[:,1]\n",
    "\n",
    "# Calculate accuracy score on the validation set\n",
    "class_weight_score = f1_score(target_valid, predictions_valid)\n",
    "\n",
    "# Calculate auc-roc\n",
    "auc_roc = roc_auc_score(target_valid, probabilities_one_valid)\n",
    "    \n",
    "print('F1 score of the Logistic Regression model using class_weight:', class_weight_score)\n",
    "print()\n",
    "print(f'AUC-ROC Score: {auc_roc:.2f}')"
   ]
  },
  {
   "cell_type": "code",
   "execution_count": 35,
   "metadata": {},
   "outputs": [
    {
     "name": "stdout",
     "output_type": "stream",
     "text": [
      "class_weight = \"balanced\" F1 score is higher: 0.6290\n"
     ]
    }
   ],
   "source": [
    "# Compare upsampled vs. class_weight = 'balanced' methods on F1 scores, print the higher one\n",
    "if upsampled_best_score == class_weight_best_score:\n",
    "    print('No change in F1 score using upsampling or class_weight methods')\n",
    "elif upsampled_best_score > class_weight_best_score:\n",
    "    print(f'Upsampled F1 score is higher: {upsampled_best_score:.4f}')\n",
    "else:\n",
    "    print(f'class_weight = \"balanced\" F1 score is higher: {class_weight_best_score:.4f}')"
   ]
  },
  {
   "cell_type": "markdown",
   "metadata": {},
   "source": [
    "**Conclusions:**\n",
    "- The Random Forest using class_weight = 'balanced' has the highest F1 score of 0.63\n",
    "    - AUC-ROC scores are both 0.87.\n",
    "- The Decision Tree has an F1 score of 0.57 for both class balance methods.\n",
    "    - AUC-ROC score is higher for class_weight = 'balanced' method at 0.81.\n",
    "- The Logistic Regression has the lowest F1 score: 0.50, which was similar for both class balance methods.\n",
    "    - AUC-ROC scores are both 0.78."
   ]
  },
  {
   "attachments": {},
   "cell_type": "markdown",
   "metadata": {},
   "source": [
    "## Final Model Testing\n",
    "I will run the Random Forest Classifier and balance the classes using the class_weight='balanced' hyperparameter since it had the highest F1 score during validation"
   ]
  },
  {
   "cell_type": "markdown",
   "metadata": {},
   "source": [
    "### Random Forest Classifier"
   ]
  },
  {
   "cell_type": "code",
   "execution_count": 36,
   "metadata": {},
   "outputs": [],
   "source": [
    "# Initialize and train the best model accounting for class imbalance \n",
    "model = RandomForestClassifier(random_state = 0, min_samples_split= 10, max_depth = 10, class_weight='balanced')\n",
    "\n",
    "# Train the model on the full training set\n",
    "model.fit(features_train_valid, target_train_valid)\n",
    "\n",
    "# Get model predictions on the test set\n",
    "predicted_test = model.predict(features_test)"
   ]
  },
  {
   "cell_type": "markdown",
   "metadata": {},
   "source": [
    "## Final Model Classification Metrics"
   ]
  },
  {
   "cell_type": "markdown",
   "metadata": {},
   "source": [
    "### Performance Metrics"
   ]
  },
  {
   "cell_type": "code",
   "execution_count": 39,
   "metadata": {},
   "outputs": [
    {
     "name": "stdout",
     "output_type": "stream",
     "text": [
      "F1 score: 0.64\n"
     ]
    }
   ],
   "source": [
    "print(f'F1 score: {f1_score(target_test, predicted_test):.2f}')"
   ]
  },
  {
   "cell_type": "code",
   "execution_count": 40,
   "metadata": {},
   "outputs": [
    {
     "name": "stdout",
     "output_type": "stream",
     "text": [
      "[[1394  179]\n",
      " [ 144  283]]\n",
      "\n",
      "Recall: 0.66\n",
      "Precision: 0.61\n"
     ]
    }
   ],
   "source": [
    "# Confusion Matrix\n",
    "print(confusion_matrix(target_test, predicted_test))\n",
    "print()\n",
    "\n",
    "# Precision & Recall\n",
    "print(f'Recall: {recall_score(target_test, predicted_test):.2f}')\n",
    "print(f'Precision: {precision_score(target_test, predicted_test):.2f}')"
   ]
  },
  {
   "cell_type": "markdown",
   "metadata": {},
   "source": [
    "**Conclusions:**\n",
    "- There are 144 false negative and 179 false positive predictions by the model. There are fewer false negatives and more false positives after balancing.\n",
    "- Recall (0.66) is higher than precision (0.61). Compared to the imbalanced data, recall improved and precision decreased (from 0.48 and 0.79, respectively)."
   ]
  },
  {
   "cell_type": "markdown",
   "metadata": {},
   "source": [
    "### Classification Thresholds"
   ]
  },
  {
   "cell_type": "code",
   "execution_count": 41,
   "metadata": {},
   "outputs": [
    {
     "name": "stdout",
     "output_type": "stream",
     "text": [
      "Threshold:0.00 -- Precision:0.21, Recall:1.00, F1 Score: 0.35\n",
      "Threshold:0.02 -- Precision:0.21, Recall:1.00, F1 Score: 0.35\n",
      "Threshold:0.04 -- Precision:0.22, Recall:1.00, F1 Score: 0.35\n",
      "Threshold:0.06 -- Precision:0.22, Recall:1.00, F1 Score: 0.37\n",
      "Threshold:0.08 -- Precision:0.24, Recall:1.00, F1 Score: 0.38\n",
      "Threshold:0.10 -- Precision:0.25, Recall:1.00, F1 Score: 0.40\n",
      "Threshold:0.12 -- Precision:0.26, Recall:0.99, F1 Score: 0.41\n",
      "Threshold:0.14 -- Precision:0.27, Recall:0.98, F1 Score: 0.43\n",
      "Threshold:0.16 -- Precision:0.29, Recall:0.96, F1 Score: 0.44\n",
      "Threshold:0.18 -- Precision:0.30, Recall:0.95, F1 Score: 0.45\n",
      "Threshold:0.20 -- Precision:0.32, Recall:0.94, F1 Score: 0.47\n",
      "Threshold:0.22 -- Precision:0.33, Recall:0.93, F1 Score: 0.49\n",
      "Threshold:0.24 -- Precision:0.35, Recall:0.91, F1 Score: 0.50\n",
      "Threshold:0.26 -- Precision:0.37, Recall:0.90, F1 Score: 0.53\n",
      "Threshold:0.28 -- Precision:0.39, Recall:0.89, F1 Score: 0.54\n",
      "Threshold:0.30 -- Precision:0.41, Recall:0.88, F1 Score: 0.56\n",
      "Threshold:0.32 -- Precision:0.43, Recall:0.85, F1 Score: 0.57\n",
      "Threshold:0.34 -- Precision:0.44, Recall:0.84, F1 Score: 0.58\n",
      "Threshold:0.36 -- Precision:0.47, Recall:0.83, F1 Score: 0.60\n",
      "Threshold:0.38 -- Precision:0.49, Recall:0.82, F1 Score: 0.61\n",
      "Threshold:0.40 -- Precision:0.52, Recall:0.80, F1 Score: 0.63\n",
      "Threshold:0.42 -- Precision:0.54, Recall:0.78, F1 Score: 0.64\n",
      "Threshold:0.44 -- Precision:0.56, Recall:0.76, F1 Score: 0.65\n",
      "Threshold:0.46 -- Precision:0.58, Recall:0.73, F1 Score: 0.64\n",
      "Threshold:0.48 -- Precision:0.59, Recall:0.69, F1 Score: 0.63\n",
      "Threshold:0.50 -- Precision:0.61, Recall:0.66, F1 Score: 0.64\n",
      "Threshold:0.52 -- Precision:0.63, Recall:0.64, F1 Score: 0.63\n",
      "Threshold:0.54 -- Precision:0.65, Recall:0.62, F1 Score: 0.63\n",
      "Threshold:0.56 -- Precision:0.67, Recall:0.60, F1 Score: 0.64\n",
      "Threshold:0.58 -- Precision:0.70, Recall:0.58, F1 Score: 0.63\n",
      "Threshold:0.60 -- Precision:0.71, Recall:0.56, F1 Score: 0.62\n",
      "Threshold:0.62 -- Precision:0.73, Recall:0.52, F1 Score: 0.61\n",
      "Threshold:0.64 -- Precision:0.75, Recall:0.50, F1 Score: 0.60\n",
      "Threshold:0.66 -- Precision:0.77, Recall:0.48, F1 Score: 0.59\n",
      "Threshold:0.68 -- Precision:0.78, Recall:0.45, F1 Score: 0.57\n",
      "Threshold:0.70 -- Precision:0.80, Recall:0.41, F1 Score: 0.55\n",
      "Threshold:0.72 -- Precision:0.81, Recall:0.40, F1 Score: 0.53\n",
      "Threshold:0.74 -- Precision:0.83, Recall:0.37, F1 Score: 0.51\n",
      "Threshold:0.76 -- Precision:0.85, Recall:0.34, F1 Score: 0.48\n",
      "Threshold:0.78 -- Precision:0.86, Recall:0.31, F1 Score: 0.46\n",
      "Threshold:0.80 -- Precision:0.86, Recall:0.27, F1 Score: 0.42\n",
      "Threshold:0.82 -- Precision:0.88, Recall:0.25, F1 Score: 0.39\n",
      "Threshold:0.84 -- Precision:0.88, Recall:0.22, F1 Score: 0.35\n",
      "Threshold:0.86 -- Precision:0.91, Recall:0.19, F1 Score: 0.31\n",
      "Threshold:0.88 -- Precision:0.90, Recall:0.15, F1 Score: 0.26\n",
      "Threshold:0.90 -- Precision:0.94, Recall:0.11, F1 Score: 0.20\n",
      "Threshold:0.92 -- Precision:0.97, Recall:0.07, F1 Score: 0.14\n",
      "Threshold:0.94 -- Precision:1.00, Recall:0.04, F1 Score: 0.07\n",
      "Threshold:0.96 -- Precision:1.00, Recall:0.01, F1 Score: 0.02\n"
     ]
    }
   ],
   "source": [
    "# Test different classification thresholds to see how the precision/recall scores are affected\n",
    "probabilities_test = model.predict_proba(features_test)\n",
    "probabilities_one_test = probabilities_test[:,1]\n",
    "\n",
    "for threshold in np.arange(0, 0.98, 0.02):\n",
    "    predicted_test = probabilities_one_test > threshold\n",
    "    precision = precision_score(target_test, predicted_test)\n",
    "    recall = recall_score(target_test, predicted_test)\n",
    "    f1 = f1_score(target_test, predicted_test)\n",
    "    \n",
    "    print(f'Threshold:{threshold:.2f} -- Precision:{precision:.2f}, Recall:{recall:.2f}, F1 Score: {f1:.2f}')"
   ]
  },
  {
   "cell_type": "markdown",
   "metadata": {},
   "source": [
    "### PR Curve"
   ]
  },
  {
   "cell_type": "code",
   "execution_count": 42,
   "metadata": {},
   "outputs": [
    {
     "data": {
      "image/png": "[encoded data removed]",
      "text/plain": [
       "<Figure size 432x432 with 1 Axes>"
      ]
     },
     "metadata": {
      "needs_background": "light"
     },
     "output_type": "display_data"
    }
   ],
   "source": [
    "# Plot Precision-Recall Curve\n",
    "precision, recall, thresholds = precision_recall_curve(target_test, probabilities_test[:,1])\n",
    "plt.figure(figsize=(6,6))\n",
    "plt.step(recall, precision, where='post')\n",
    "plt.xlabel('Recall')\n",
    "plt.ylabel('Precision')\n",
    "plt.xlim([0, 1])\n",
    "plt.ylim([0, 1.05])\n",
    "plt.title('Precision-Recall Curve')\n",
    "plt.show()"
   ]
  },
  {
   "cell_type": "markdown",
   "metadata": {},
   "source": [
    "### ROC Curve"
   ]
  },
  {
   "cell_type": "code",
   "execution_count": 43,
   "metadata": {},
   "outputs": [
    {
     "name": "stdout",
     "output_type": "stream",
     "text": [
      "AUC-ROC Score: 0.87\n"
     ]
    }
   ],
   "source": [
    "# AUC-ROC score\n",
    "auc_roc = roc_auc_score(target_test, probabilities_one_test)\n",
    "print(f'AUC-ROC Score: {auc_roc:.2f}')"
   ]
  },
  {
   "cell_type": "code",
   "execution_count": 44,
   "metadata": {},
   "outputs": [
    {
     "data": {
      "image/png": "[encoded data removed]",
      "text/plain": [
       "<Figure size 648x432 with 1 Axes>"
      ]
     },
     "metadata": {
      "needs_background": "light"
     },
     "output_type": "display_data"
    }
   ],
   "source": [
    "fpr, tpr, thresholds = roc_curve(target_test, probabilities_test[:,1])\n",
    "plt.figure(figsize=(9,6))\n",
    "plt.plot(fpr, tpr)\n",
    "plt.xlabel('False Positive Rate (FPR)')\n",
    "plt.ylabel('True Positive Rate (TPR)')\n",
    "plt.xlim([-0.01, 1.05])\n",
    "plt.ylim([0.0, 1.05])\n",
    "plt.title('ROC Curve')\n",
    "\n",
    "# ROC curve for random model (looks like a straight line)\n",
    "plt.plot([0, 1], [0, 1], linestyle='--')\n",
    "\n",
    "plt.legend(['Final model', 'Random model'])\n",
    "\n",
    "plt.show()\n"
   ]
  },
  {
   "attachments": {},
   "cell_type": "markdown",
   "metadata": {},
   "source": [
    "** Overall Conclusions:**\n",
    "- The F1 score is 0.64 which is greater than the required 0.59 threshold.\n",
    "- The height of the PR Curve indicates that the final model performs well.\n",
    "- The AUC-ROC score is 0.87, which means that the final model performs better than a random model.\n",
    "- After balancing the classes, the F1 score increased by 0.04 and AUC-ROC increased by 0.01."
   ]
  }
 ],
 "metadata": {
  "kernelspec": {
   "display_name": "Python 3",
   "language": "python",
   "name": "python3"
  },
  "language_info": {
   "codemirror_mode": {
    "name": "ipython",
    "version": 3
   },
   "file_extension": ".py",
   "mimetype": "text/x-python",
   "name": "python",
   "nbconvert_exporter": "python",
   "pygments_lexer": "ipython3",
   "version": "3.9.6"
  },
  "toc": {
   "base_numbering": 1,
   "nav_menu": {},
   "number_sections": true,
   "sideBar": true,
   "skip_h1_title": true,
   "title_cell": "Table of Contents",
   "title_sidebar": "Contents",
   "toc_cell": false,
   "toc_position": {
    "height": "calc(100% - 180px)",
    "left": "10px",
    "top": "150px",
    "width": "371px"
   },
   "toc_section_display": true,
   "toc_window_display": true
  },
  "vscode": {
   "interpreter": {
    "hash": "31f2aee4e71d21fbe5cf8b01ff0e069b9275f58929596ceb00d14d90e3e16cd6"
   }
  }
 },
 "nbformat": 4,
 "nbformat_minor": 2
}
